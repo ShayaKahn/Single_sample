{
 "cells": [
  {
   "cell_type": "code",
   "execution_count": null,
   "id": "177f93e2",
   "metadata": {},
   "outputs": [],
   "source": [
    "import numpy as np\n",
    "import matplotlib.pyplot as plt\n",
    "from sympy import *\n",
    "\n",
    "def trapezoidal(f,a,b,n):\n",
    "    h=(b-a)/n\n",
    "    J=0\n",
    "    for i in range(1,n):\n",
    "        J=J+f(a+i*h)\n",
    "    I=h*((f(a)+f(b))/2+J)\n",
    "    return I\n",
    "\n",
    "def simpsons(f,a,b,n):\n",
    "    h=(b-a)/n\n",
    "    I=0\n",
    "    for i in range(0,n):\n",
    "        I=I+h/6*(f(a+i*h)+4*f(a+h/2+i*h)+f(a+(i+1)*h))\n",
    "    return I   \n",
    "\n",
    "# variables\n",
    "f=lambda x:np.exp(x)\n",
    "a=0\n",
    "b=1\n",
    "n_vector=(2*np.ones((7,),dtype=int))**np.arange(2,9,1,dtype=int)\n",
    "x=symbol('x')\n",
    "\n",
    "def calc_analytic(f,x)\n",
    "    I_analytical=integrate(f, x)\n",
    "    return I_analytical\n",
    "\n",
    "I_analytical = calc_analytic(f,x)\n",
    "print(I_analytical)"
   ]
  }
 ],
 "metadata": {
  "kernelspec": {
   "display_name": "Python 3 (ipykernel)",
   "language": "python",
   "name": "python3"
  },
  "language_info": {
   "codemirror_mode": {
    "name": "ipython",
    "version": 3
   },
   "file_extension": ".py",
   "mimetype": "text/x-python",
   "name": "python",
   "nbconvert_exporter": "python",
   "pygments_lexer": "ipython3",
   "version": "3.10.2"
  }
 },
 "nbformat": 4,
 "nbformat_minor": 5
}
