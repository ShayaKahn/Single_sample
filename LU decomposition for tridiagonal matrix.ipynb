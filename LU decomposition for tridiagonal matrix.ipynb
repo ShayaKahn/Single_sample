{
 "cells": [
  {
   "cell_type": "code",
   "execution_count": 28,
   "id": "fe33417c",
   "metadata": {},
   "outputs": [],
   "source": [
    "import numpy as np\n",
    "\n",
    "def LU_td(A):\n",
    "    diag_A=np.diag(A)\n",
    "    diag_up_A=np.diag(A,1)\n",
    "    diag_down_A=np.diag(A,-1)\n",
    "    diag_down_L=np.ones(np.size(diag_down_A))\n",
    "    diag_U=np.ones(np.size(diag_A))\n",
    "    diag_up_U=diag_up_A\n",
    "    diag_U[0]=diag_A[0]\n",
    "    n=np.size(diag_A)\n",
    "    for j in range(1,n):\n",
    "        diag_down_L[j-1]=diag_down_A[j-1]/diag_U[j-1]\n",
    "        diag_U[j]=diag_A[j]-diag_down_L[j-1]*diag_up_U[j-1]\n",
    "    L=np.diag(diag_down_L,-1)+np.eye(n)\n",
    "    U=np.diag(diag_up_U,1)+np.diag(diag_U)\n",
    "    return L,U"
   ]
  }
 ],
 "metadata": {
  "kernelspec": {
   "display_name": "Python 3 (ipykernel)",
   "language": "python",
   "name": "python3"
  },
  "language_info": {
   "codemirror_mode": {
    "name": "ipython",
    "version": 3
   },
   "file_extension": ".py",
   "mimetype": "text/x-python",
   "name": "python",
   "nbconvert_exporter": "python",
   "pygments_lexer": "ipython3",
   "version": "3.10.2"
  }
 },
 "nbformat": 4,
 "nbformat_minor": 5
}
