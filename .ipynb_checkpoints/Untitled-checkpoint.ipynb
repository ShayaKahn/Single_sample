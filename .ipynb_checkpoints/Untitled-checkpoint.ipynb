{
 "cells": [
  {
   "cell_type": "code",
   "execution_count": 91,
   "id": "fe5d29b0",
   "metadata": {},
   "outputs": [
    {
     "name": "stdout",
     "output_type": "stream",
     "text": [
      "[0.66666667]\n",
      "1\n"
     ]
    },
    {
     "ename": "AxisError",
     "evalue": "axis 1 is out of bounds for array of dimension 1",
     "output_type": "error",
     "traceback": [
      "\u001b[1;31m---------------------------------------------------------------------------\u001b[0m",
      "\u001b[1;31mAxisError\u001b[0m                                 Traceback (most recent call last)",
      "Cell \u001b[1;32mIn [91], line 4\u001b[0m\n\u001b[0;32m      1\u001b[0m \u001b[38;5;28;01mimport\u001b[39;00m \u001b[38;5;21;01mnumpy\u001b[39;00m \u001b[38;5;28;01mas\u001b[39;00m \u001b[38;5;21;01mnp\u001b[39;00m\n\u001b[0;32m      3\u001b[0m C \u001b[38;5;241m=\u001b[39m np\u001b[38;5;241m.\u001b[39marray([[\u001b[38;5;241m1\u001b[39m,\u001b[38;5;241m2\u001b[39m,\u001b[38;5;241m3\u001b[39m],[\u001b[38;5;241m4\u001b[39m,\u001b[38;5;241m2\u001b[39m,\u001b[38;5;241m1\u001b[39m],[\u001b[38;5;241m5\u001b[39m,\u001b[38;5;241m6\u001b[39m,\u001b[38;5;241m2\u001b[39m]])\n\u001b[1;32m----> 4\u001b[0m [L,U] \u001b[38;5;241m=\u001b[39m LU_dec(C) \n\u001b[0;32m      6\u001b[0m \u001b[38;5;28;01mdef\u001b[39;00m \u001b[38;5;21mLU_dec\u001b[39m(A):\n\u001b[0;32m      7\u001b[0m     n \u001b[38;5;241m=\u001b[39m np\u001b[38;5;241m.\u001b[39msize(A,\u001b[38;5;241m1\u001b[39m)\n",
      "Cell \u001b[1;32mIn [90], line 14\u001b[0m, in \u001b[0;36mLU_dec\u001b[1;34m(A)\u001b[0m\n\u001b[0;32m     12\u001b[0m v\u001b[38;5;241m=\u001b[39mA[\u001b[38;5;241m1\u001b[39m:,\u001b[38;5;241m0\u001b[39m]\n\u001b[0;32m     13\u001b[0m B\u001b[38;5;241m=\u001b[39mA[\u001b[38;5;241m1\u001b[39m:,\u001b[38;5;241m1\u001b[39m:]\n\u001b[1;32m---> 14\u001b[0m [L2,U2]\u001b[38;5;241m=\u001b[39m\u001b[43mLU_dec\u001b[49m\u001b[43m(\u001b[49m\u001b[43mB\u001b[49m\u001b[38;5;241;43m-\u001b[39;49m\u001b[43mnp\u001b[49m\u001b[38;5;241;43m.\u001b[39;49m\u001b[43mouter\u001b[49m\u001b[43m(\u001b[49m\u001b[43mv\u001b[49m\u001b[43m,\u001b[49m\u001b[43m \u001b[49m\u001b[43mu\u001b[49m\u001b[43m)\u001b[49m\u001b[38;5;241;43m/\u001b[39;49m\u001b[43mA_11\u001b[49m\u001b[43m)\u001b[49m\n\u001b[0;32m     15\u001b[0m a_L \u001b[38;5;241m=\u001b[39m np\u001b[38;5;241m.\u001b[39mconcatenate((np\u001b[38;5;241m.\u001b[39mones((\u001b[38;5;241m1\u001b[39m,\u001b[38;5;241m1\u001b[39m)), np\u001b[38;5;241m.\u001b[39mzeros((\u001b[38;5;241m1\u001b[39m,n\u001b[38;5;241m-\u001b[39m\u001b[38;5;241m1\u001b[39m))),axis\u001b[38;5;241m=\u001b[39m\u001b[38;5;241m1\u001b[39m)\n\u001b[0;32m     16\u001b[0m \u001b[38;5;28mprint\u001b[39m(v\u001b[38;5;241m/\u001b[39mA_11)\n",
      "Cell \u001b[1;32mIn [90], line 18\u001b[0m, in \u001b[0;36mLU_dec\u001b[1;34m(A)\u001b[0m\n\u001b[0;32m     16\u001b[0m \u001b[38;5;28mprint\u001b[39m(v\u001b[38;5;241m/\u001b[39mA_11)\n\u001b[0;32m     17\u001b[0m \u001b[38;5;28mprint\u001b[39m(L2)\n\u001b[1;32m---> 18\u001b[0m b_L \u001b[38;5;241m=\u001b[39m \u001b[43mnp\u001b[49m\u001b[38;5;241;43m.\u001b[39;49m\u001b[43mconcatenate\u001b[49m\u001b[43m(\u001b[49m\u001b[43m(\u001b[49m\u001b[43mv\u001b[49m\u001b[38;5;241;43m/\u001b[39;49m\u001b[43mA_11\u001b[49m\u001b[43m,\u001b[49m\u001b[43m \u001b[49m\u001b[43mnp\u001b[49m\u001b[38;5;241;43m.\u001b[39;49m\u001b[43marray\u001b[49m\u001b[43m(\u001b[49m\u001b[43m[\u001b[49m\u001b[43mL2\u001b[49m\u001b[43m]\u001b[49m\u001b[43m)\u001b[49m\u001b[43m)\u001b[49m\u001b[43m,\u001b[49m\u001b[43maxis\u001b[49m\u001b[38;5;241;43m=\u001b[39;49m\u001b[43m \u001b[49m\u001b[38;5;241;43m1\u001b[39;49m\u001b[43m)\u001b[49m\n\u001b[0;32m     19\u001b[0m L \u001b[38;5;241m=\u001b[39m np\u001b[38;5;241m.\u001b[39mconcatenate((a_L,b_L),axis\u001b[38;5;241m=\u001b[39m\u001b[38;5;241m0\u001b[39m)\n\u001b[0;32m     21\u001b[0m a_U \u001b[38;5;241m=\u001b[39m np\u001b[38;5;241m.\u001b[39marray([np\u001b[38;5;241m.\u001b[39mconcatenate((np\u001b[38;5;241m.\u001b[39marray([A_11]),u),axis\u001b[38;5;241m=\u001b[39m \u001b[38;5;241m0\u001b[39m)])\n",
      "File \u001b[1;32m<__array_function__ internals>:180\u001b[0m, in \u001b[0;36mconcatenate\u001b[1;34m(*args, **kwargs)\u001b[0m\n",
      "\u001b[1;31mAxisError\u001b[0m: axis 1 is out of bounds for array of dimension 1"
     ]
    }
   ],
   "source": [
    "import numpy as np\n",
    "\n",
    "C = np.array([[1,2,3],[4,2,1],[5,6,2]])\n",
    "[L,U] = LU_dec(C) \n",
    "\n",
    "def LU_dec(A):\n",
    "    n = np.size(A,1)\n",
    "    if n==1:\n",
    "        L=np.ones((1,1))\n",
    "        U=A\n",
    "    else:\n",
    "        A_11=A[0,0]\n",
    "        u=A[0,1:]\n",
    "        v=A[1:,0]\n",
    "        B=A[1:,1:]\n",
    "        [L2,U2]=LU_dec(B-np.outer(v, u)/A_11)\n",
    "        a_L = np.concatenate((np.ones((1,1)), np.zeros((1,n-1))),axis=1)\n",
    "        b_L =  np.concatenate((v/A_11, L2),axis= 1)\n",
    "        L = np.concatenate((a_L,b_L),axis=0)\n",
    "        \n",
    "        a_U = np.array([np.concatenate((np.array([A_11]),u),axis= 0)])\n",
    "        b_U = np.concatenate((np.zeros((n-1,1)), U2), axis=1)\n",
    "        U = np.concatenate((a_U,b_U), axis= 1)                     \n",
    "        #L = np.array([[1,np.zeros((1,n-1))],[v/A_11, L2]])\n",
    "        #U = np.array([[A_11,u],[np.zeros((n-1,1)), U2]])\n",
    "    return L,U    \n",
    "        \n"
   ]
  },
  {
   "cell_type": "code",
   "execution_count": 70,
   "id": "6ce3c21a",
   "metadata": {},
   "outputs": [
    {
     "name": "stdout",
     "output_type": "stream",
     "text": [
      "[[1. 0. 0. 0. 0.]]\n",
      " \n",
      "[[2. 1. 1. 1. 1.]\n",
      " [2. 1. 1. 1. 1.]\n",
      " [2. 1. 1. 1. 1.]\n",
      " [2. 1. 1. 1. 1.]]\n"
     ]
    },
    {
     "data": {
      "text/plain": [
       "array([[1., 0., 0., 0., 0.],\n",
       "       [2., 1., 1., 1., 1.],\n",
       "       [2., 1., 1., 1., 1.],\n",
       "       [2., 1., 1., 1., 1.],\n",
       "       [2., 1., 1., 1., 1.]])"
      ]
     },
     "execution_count": 70,
     "metadata": {},
     "output_type": "execute_result"
    }
   ],
   "source": [
    "a = np.ones((1,5))\n",
    "b = np.ones((5,1))*2\n",
    "c = np.ones((5,5))\n",
    "d = np.ones((1,1))\n",
    "A = np.append(np.ones((1,1)),a)\n",
    "#print(A)\n",
    "#L = np.concatenate((np.append(np.ones((1,1)),\n",
    "#                              np.zeros((1,4))),np.concatenate((np.ones((4,1))*2, np.ones((4,4)),axis= 1)),axis = 0)\n",
    "\n",
    "a = np.concatenate((np.ones((1,1)), np.zeros((1,4))),axis=1)\n",
    "b = np.concatenate((np.ones((4,1))*2, np.ones((4,4))),axis= 1)\n",
    "np.concatenate((a,b),axis=0)\n",
    "\n",
    "                   "
   ]
  },
  {
   "cell_type": "code",
   "execution_count": 90,
   "id": "34c6324b",
   "metadata": {},
   "outputs": [
    {
     "name": "stdout",
     "output_type": "stream",
     "text": [
      "[0.66666667]\n",
      "1\n"
     ]
    },
    {
     "ename": "AxisError",
     "evalue": "axis 1 is out of bounds for array of dimension 1",
     "output_type": "error",
     "traceback": [
      "\u001b[1;31m---------------------------------------------------------------------------\u001b[0m",
      "\u001b[1;31mAxisError\u001b[0m                                 Traceback (most recent call last)",
      "Cell \u001b[1;32mIn [90], line 29\u001b[0m\n\u001b[0;32m     26\u001b[0m     \u001b[38;5;28;01mreturn\u001b[39;00m L,U\n\u001b[0;32m     28\u001b[0m C \u001b[38;5;241m=\u001b[39m np\u001b[38;5;241m.\u001b[39marray([[\u001b[38;5;241m1\u001b[39m,\u001b[38;5;241m2\u001b[39m,\u001b[38;5;241m3\u001b[39m],[\u001b[38;5;241m4\u001b[39m,\u001b[38;5;241m2\u001b[39m,\u001b[38;5;241m1\u001b[39m],[\u001b[38;5;241m5\u001b[39m,\u001b[38;5;241m6\u001b[39m,\u001b[38;5;241m2\u001b[39m]])\n\u001b[1;32m---> 29\u001b[0m [L,U] \u001b[38;5;241m=\u001b[39m LU_dec(C)\n",
      "Cell \u001b[1;32mIn [90], line 14\u001b[0m, in \u001b[0;36mLU_dec\u001b[1;34m(A)\u001b[0m\n\u001b[0;32m     12\u001b[0m v\u001b[38;5;241m=\u001b[39mA[\u001b[38;5;241m1\u001b[39m:,\u001b[38;5;241m0\u001b[39m]\n\u001b[0;32m     13\u001b[0m B\u001b[38;5;241m=\u001b[39mA[\u001b[38;5;241m1\u001b[39m:,\u001b[38;5;241m1\u001b[39m:]\n\u001b[1;32m---> 14\u001b[0m [L2,U2]\u001b[38;5;241m=\u001b[39m\u001b[43mLU_dec\u001b[49m\u001b[43m(\u001b[49m\u001b[43mB\u001b[49m\u001b[38;5;241;43m-\u001b[39;49m\u001b[43mnp\u001b[49m\u001b[38;5;241;43m.\u001b[39;49m\u001b[43mouter\u001b[49m\u001b[43m(\u001b[49m\u001b[43mv\u001b[49m\u001b[43m,\u001b[49m\u001b[43m \u001b[49m\u001b[43mu\u001b[49m\u001b[43m)\u001b[49m\u001b[38;5;241;43m/\u001b[39;49m\u001b[43mA_11\u001b[49m\u001b[43m)\u001b[49m\n\u001b[0;32m     15\u001b[0m a_L \u001b[38;5;241m=\u001b[39m np\u001b[38;5;241m.\u001b[39mconcatenate((np\u001b[38;5;241m.\u001b[39mones((\u001b[38;5;241m1\u001b[39m,\u001b[38;5;241m1\u001b[39m)), np\u001b[38;5;241m.\u001b[39mzeros((\u001b[38;5;241m1\u001b[39m,n\u001b[38;5;241m-\u001b[39m\u001b[38;5;241m1\u001b[39m))),axis\u001b[38;5;241m=\u001b[39m\u001b[38;5;241m1\u001b[39m)\n\u001b[0;32m     16\u001b[0m \u001b[38;5;28mprint\u001b[39m(v\u001b[38;5;241m/\u001b[39mA_11)\n",
      "Cell \u001b[1;32mIn [90], line 18\u001b[0m, in \u001b[0;36mLU_dec\u001b[1;34m(A)\u001b[0m\n\u001b[0;32m     16\u001b[0m \u001b[38;5;28mprint\u001b[39m(v\u001b[38;5;241m/\u001b[39mA_11)\n\u001b[0;32m     17\u001b[0m \u001b[38;5;28mprint\u001b[39m(L2)\n\u001b[1;32m---> 18\u001b[0m b_L \u001b[38;5;241m=\u001b[39m \u001b[43mnp\u001b[49m\u001b[38;5;241;43m.\u001b[39;49m\u001b[43mconcatenate\u001b[49m\u001b[43m(\u001b[49m\u001b[43m(\u001b[49m\u001b[43mv\u001b[49m\u001b[38;5;241;43m/\u001b[39;49m\u001b[43mA_11\u001b[49m\u001b[43m,\u001b[49m\u001b[43m \u001b[49m\u001b[43mnp\u001b[49m\u001b[38;5;241;43m.\u001b[39;49m\u001b[43marray\u001b[49m\u001b[43m(\u001b[49m\u001b[43m[\u001b[49m\u001b[43mL2\u001b[49m\u001b[43m]\u001b[49m\u001b[43m)\u001b[49m\u001b[43m)\u001b[49m\u001b[43m,\u001b[49m\u001b[43maxis\u001b[49m\u001b[38;5;241;43m=\u001b[39;49m\u001b[43m \u001b[49m\u001b[38;5;241;43m1\u001b[39;49m\u001b[43m)\u001b[49m\n\u001b[0;32m     19\u001b[0m L \u001b[38;5;241m=\u001b[39m np\u001b[38;5;241m.\u001b[39mconcatenate((a_L,b_L),axis\u001b[38;5;241m=\u001b[39m\u001b[38;5;241m0\u001b[39m)\n\u001b[0;32m     21\u001b[0m a_U \u001b[38;5;241m=\u001b[39m np\u001b[38;5;241m.\u001b[39marray([np\u001b[38;5;241m.\u001b[39mconcatenate((np\u001b[38;5;241m.\u001b[39marray([A_11]),u),axis\u001b[38;5;241m=\u001b[39m \u001b[38;5;241m0\u001b[39m)])\n",
      "File \u001b[1;32m<__array_function__ internals>:180\u001b[0m, in \u001b[0;36mconcatenate\u001b[1;34m(*args, **kwargs)\u001b[0m\n",
      "\u001b[1;31mAxisError\u001b[0m: axis 1 is out of bounds for array of dimension 1"
     ]
    }
   ],
   "source": [
    "import numpy as np\n",
    "\n",
    "def LU_dec(A):\n",
    "    n = np.size(A,1)\n",
    "    #print(A)\n",
    "    if n==1:\n",
    "        L=1\n",
    "        U=A\n",
    "    else:\n",
    "        A_11=A[0,0]\n",
    "        u=A[0,1:]\n",
    "        v=A[1:,0]\n",
    "        B=A[1:,1:]\n",
    "        [L2,U2]=LU_dec(B-np.outer(v, u)/A_11)\n",
    "        a_L = np.concatenate((np.ones((1,1)), np.zeros((1,n-1))),axis=1)\n",
    "        print(v/A_11)\n",
    "        print(L2)\n",
    "        b_L = np.concatenate((v/A_11, L2),axis= 1)\n",
    "        L = np.concatenate((a_L,b_L),axis=0)\n",
    "        \n",
    "        a_U = np.array([np.concatenate((np.array([A_11]),u),axis= 0)])\n",
    "        b_U = np.concatenate((np.zeros((n-1,1)), U2), axis=1)\n",
    "        U = np.concatenate((a_U,b_U), axis= 1)                     \n",
    "        #L = np.array([[1,np.zeros((1,n-1))],[v/A_11, L2]])\n",
    "        #U = np.array([[A_11,u],[np.zeros((n-1,1)), U2]])\n",
    "    return L,U\n",
    "\n",
    "C = np.array([[1,2,3],[4,2,1],[5,6,2]])\n",
    "[L,U] = LU_dec(C)"
   ]
  },
  {
   "cell_type": "code",
   "execution_count": null,
   "id": "2925a553",
   "metadata": {},
   "outputs": [],
   "source": []
  }
 ],
 "metadata": {
  "kernelspec": {
   "display_name": "Python 3 (ipykernel)",
   "language": "python",
   "name": "python3"
  },
  "language_info": {
   "codemirror_mode": {
    "name": "ipython",
    "version": 3
   },
   "file_extension": ".py",
   "mimetype": "text/x-python",
   "name": "python",
   "nbconvert_exporter": "python",
   "pygments_lexer": "ipython3",
   "version": "3.10.2"
  }
 },
 "nbformat": 4,
 "nbformat_minor": 5
}
