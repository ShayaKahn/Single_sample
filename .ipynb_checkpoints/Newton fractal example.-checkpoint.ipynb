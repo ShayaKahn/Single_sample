{
 "cells": [
  {
   "cell_type": "code",
   "execution_count": null,
   "id": "3173e766",
   "metadata": {},
   "outputs": [],
   "source": [
    "import numpy as np\n",
    "import matplotlib.pyplot as plt\n",
    "\n",
    "# Newton Raphson function\n",
    "def NR(f,J,X0,Tol):\n",
    "    while np.linalg.norm(f(X0))>Tol:\n",
    "        X0=X0-np.linalg.inv(J(X0))@f(X0)\n",
    "    return X0\n",
    "\n",
    "# The functions f and g\n",
    "f_g=lambda x: np.array([x[0]**3-3*x[0]*x[1]**2-1, 3*x[0]**2*x[1]-x[1]**3])\n",
    "# Jaccobian\n",
    "J=lambda x: np.array([[3*x[0]**2-3*x[1]**2,-6*x[0]*x[1]],\n",
    "                       [6*x[0]*x[1],3*x[0]**2-3*x[1]**2]])\n",
    "x=np.linspace(-1.5,1.5,num=400)\n",
    "y=x\n",
    "root_mat=np.empty((np.size(x),np.size(y)))\n",
    "roots=np.array([[1,np.cos(2*np.pi/3),np.cos(4*np.pi/3)],\n",
    "                [0,np.sin(2*np.pi/3),np.sin(4*np.pi/3)]])\n",
    "\n",
    "Tol=10**-3\n",
    "color_scale=np.arange(1,4,1)\n",
    "\n",
    "for i in range(0,np.size(x)):\n",
    "    x0=x[i]\n",
    "    for j in range(0,np.size(y)):\n",
    "        y0=y[j]\n",
    "        root=NR(f_g,J,np.array([x0,y0]),Tol)\n",
    "        #print(root)\n",
    "        norms=np.array([np.linalg.norm(root-root_k) for root_k in roots.T])\n",
    "        ind=np.where(np.min(norms,axis=0))\n",
    "        print(norms)\n",
    "        root_mat[i,j]=int(color_scale[ind])\n",
    "#print(root_mat)        "
   ]
  }
 ],
 "metadata": {
  "kernelspec": {
   "display_name": "Python 3 (ipykernel)",
   "language": "python",
   "name": "python3"
  },
  "language_info": {
   "codemirror_mode": {
    "name": "ipython",
    "version": 3
   },
   "file_extension": ".py",
   "mimetype": "text/x-python",
   "name": "python",
   "nbconvert_exporter": "python",
   "pygments_lexer": "ipython3",
   "version": "3.10.2"
  }
 },
 "nbformat": 4,
 "nbformat_minor": 5
}
