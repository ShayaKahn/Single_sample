{
 "cells": [
  {
   "cell_type": "code",
   "execution_count": 107,
   "id": "50c36388",
   "metadata": {},
   "outputs": [],
   "source": [
    "import numpy as np\n",
    "\n",
    "def MonteCarlo(N,n,p):\n",
    "    T=0\n",
    "    while n>0:\n",
    "        T=T+1\n",
    "        if p>np.random.uniform(0,1):\n",
    "            n=n+1\n",
    "        else:\n",
    "            n=n-1\n",
    "        if n==N:\n",
    "            n=N-1\n",
    "    return T"
   ]
  }
 ],
 "metadata": {
  "kernelspec": {
   "display_name": "Python 3 (ipykernel)",
   "language": "python",
   "name": "python3"
  },
  "language_info": {
   "codemirror_mode": {
    "name": "ipython",
    "version": 3
   },
   "file_extension": ".py",
   "mimetype": "text/x-python",
   "name": "python",
   "nbconvert_exporter": "python",
   "pygments_lexer": "ipython3",
   "version": "3.10.2"
  }
 },
 "nbformat": 4,
 "nbformat_minor": 5
}
